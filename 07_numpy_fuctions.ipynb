{
 "cells": [
  {
   "cell_type": "markdown",
   "metadata": {},
   "source": [
    "# Numpy Functions Tutorials"
   ]
  },
  {
   "cell_type": "code",
   "execution_count": 1,
   "metadata": {},
   "outputs": [],
   "source": [
    "import numpy as np"
   ]
  },
  {
   "cell_type": "code",
   "execution_count": 24,
   "metadata": {},
   "outputs": [
    {
     "name": "stdout",
     "output_type": "stream",
     "text": [
      "<class 'numpy.int32'>\n"
     ]
    },
    {
     "data": {
      "text/plain": [
       "array([[0, 0, 0]])"
      ]
     },
     "execution_count": 24,
     "metadata": {},
     "output_type": "execute_result"
    }
   ],
   "source": [
    "# zeros \n",
    "zero_arr = np.zeros([1,3], dtype=\"int\" )\n",
    "print(type(zero_arr[0,0]))\n",
    "zero_arr\n"
   ]
  },
  {
   "cell_type": "code",
   "execution_count": 18,
   "metadata": {},
   "outputs": [
    {
     "name": "stdout",
     "output_type": "stream",
     "text": [
      "[[1. 1. 1.]\n",
      " [1. 1. 1.]\n",
      " [1. 1. 1.]]\n",
      "<class 'numpy.float64'>\n",
      "[[1 1 1]\n",
      " [1 1 1]\n",
      " [1 1 1]]\n",
      "<class 'numpy.int32'>\n"
     ]
    }
   ],
   "source": [
    "# onces functions\n",
    "one_arr=np.ones([3,3])\n",
    "print(one_arr)\n",
    "print(type(one_arr[0,0]))\n",
    "\n",
    "one_arr=np.ones([3,3], dtype=\"int\") #type change, default type is float64  \n",
    "print(one_arr)\n",
    "print(type(one_arr[0,0]))"
   ]
  },
  {
   "cell_type": "code",
   "execution_count": 28,
   "metadata": {},
   "outputs": [
    {
     "name": "stdout",
     "output_type": "stream",
     "text": [
      "[4.53619290e+287 7.28932266e-094]\n",
      "<class 'numpy.float64'>\n"
     ]
    }
   ],
   "source": [
    "# empty function\n",
    "empty_arr=np.empty(2)\n",
    "print(empty_arr)\n",
    "print(type(empty_arr[0]))"
   ]
  },
  {
   "cell_type": "code",
   "execution_count": 69,
   "metadata": {},
   "outputs": [
    {
     "name": "stdout",
     "output_type": "stream",
     "text": [
      " 1-D\n",
      "[0.29424012 0.18663643 0.86051074]\n",
      " \n",
      " 2-D\n",
      "[[0.5286027  0.44384957]\n",
      " [0.49582222 0.5448674 ]\n",
      " [0.81919744 0.94005276]]\n",
      " \n",
      "3-D\n",
      "[[[0.36939618 0.17643683]\n",
      "  [0.10645281 0.82550174]]\n",
      "\n",
      " [[0.99848495 0.62180888]\n",
      "  [0.09482009 0.6742527 ]]\n",
      "\n",
      " [[0.86552426 0.50641229]\n",
      "  [0.04083505 0.38452177]]]\n"
     ]
    }
   ],
   "source": [
    "#randam function\n",
    "print(\" 1-D\")\n",
    "randam_arr= np.random.rand(3)\n",
    "print(randam_arr)\n",
    "print(\" \")\n",
    "print(\" 2-D\")\n",
    "randam_arr= np.random.rand(3,2)\n",
    "print(randam_arr)\n",
    "\n",
    "randam_arr= np.random.rand(3,2, 2)\n",
    "print(\" \")\n",
    "print(\"3-D\")\n",
    "print(randam_arr)"
   ]
  },
  {
   "cell_type": "code",
   "execution_count": 47,
   "metadata": {},
   "outputs": [
    {
     "name": "stdout",
     "output_type": "stream",
     "text": [
      "[[ 0.63969159 -2.75624578 -0.00656109  0.88465678]\n",
      " [-0.75065773 -1.0625018  -0.59939336  0.67831879]]\n"
     ]
    }
   ],
   "source": [
    "randama_arr=np.random.randn(2,4)\n",
    "print(randama_arr)"
   ]
  },
  {
   "cell_type": "code",
   "execution_count": 70,
   "metadata": {},
   "outputs": [
    {
     "name": "stdout",
     "output_type": "stream",
     "text": [
      "[10 15 20 25]\n",
      "[10.   11.25 12.5  13.75 15.   16.25 17.5  18.75 20.  ]\n"
     ]
    }
   ],
   "source": [
    "print(np.arange(10,30,5))\n",
    "\n",
    "print(np.linspace(10,20,9))"
   ]
  },
  {
   "cell_type": "markdown",
   "metadata": {},
   "source": [
    "# numpy array with array ()"
   ]
  },
  {
   "cell_type": "code",
   "execution_count": 52,
   "metadata": {},
   "outputs": [
    {
     "name": "stdout",
     "output_type": "stream",
     "text": [
      "<class 'int'>\n",
      "<class 'float'>\n"
     ]
    }
   ],
   "source": [
    "import numpy as np\n",
    "\n",
    "np.array([10,20,30,40])\n",
    "\n",
    "variable =[50,60,70,8.9]\n",
    "\n",
    "print(type(variable[0]))\n",
    "\n",
    "print(type(variable[3]))\n"
   ]
  },
  {
   "cell_type": "markdown",
   "metadata": {},
   "source": [
    "#numpy array with the zero() function"
   ]
  },
  {
   "cell_type": "code",
   "execution_count": 60,
   "metadata": {},
   "outputs": [
    {
     "name": "stdout",
     "output_type": "stream",
     "text": [
      "[0. 0. 0. 0.]\n",
      "<class 'numpy.float64'>\n"
     ]
    }
   ],
   "source": [
    "import numpy as np\n",
    "\n",
    "zeroarr=np.zeros(4)\n",
    "print(zeroarr)\n",
    "print(type(zeroarr[2]))"
   ]
  },
  {
   "cell_type": "code",
   "execution_count": 63,
   "metadata": {},
   "outputs": [
    {
     "name": "stdout",
     "output_type": "stream",
     "text": [
      "[0 0 0 0]\n",
      "<class 'numpy.int32'>\n"
     ]
    }
   ],
   "source": [
    "import numpy as np\n",
    "\n",
    "zeroarr=np.zeros(4, dtype=\"int\")\n",
    "print(zeroarr)\n",
    "print(type(zeroarr[2]))"
   ]
  },
  {
   "cell_type": "code",
   "execution_count": 68,
   "metadata": {},
   "outputs": [
    {
     "name": "stdout",
     "output_type": "stream",
     "text": [
      "[[0 0 0 0]\n",
      " [0 0 0 0]\n",
      " [0 0 0 0]\n",
      " [0 0 0 0]]\n",
      "<class 'numpy.int32'>\n"
     ]
    }
   ],
   "source": [
    "import numpy as np\n",
    "\n",
    "zeroarr=np.zeros((4,4), dtype=\"int\")\n",
    "print(zeroarr)\n",
    "print(type(zeroarr[2,3]))"
   ]
  },
  {
   "cell_type": "markdown",
   "metadata": {},
   "source": [
    "### <center>*ones() function in numpy*</center>"
   ]
  },
  {
   "cell_type": "code",
   "execution_count": 73,
   "metadata": {},
   "outputs": [
    {
     "name": "stdout",
     "output_type": "stream",
     "text": [
      "[1. 1. 1. 1. 1.]\n"
     ]
    }
   ],
   "source": [
    "import numpy as np\n",
    "onesfun=np.ones(5)\n",
    "print(onesfun)"
   ]
  },
  {
   "cell_type": "code",
   "execution_count": 77,
   "metadata": {},
   "outputs": [
    {
     "data": {
      "text/plain": [
       "array([[1., 1., 1.],\n",
       "       [1., 1., 1.],\n",
       "       [1., 1., 1.]])"
      ]
     },
     "execution_count": 77,
     "metadata": {},
     "output_type": "execute_result"
    }
   ],
   "source": [
    "np.ones([ 3, 3]) "
   ]
  },
  {
   "cell_type": "code",
   "execution_count": 89,
   "metadata": {},
   "outputs": [
    {
     "name": "stdout",
     "output_type": "stream",
     "text": [
      "[3 5 7]\n"
     ]
    }
   ],
   "source": [
    "import numpy as np\n",
    "\n",
    "\n",
    "arrange_array=np.arange(3,9,2)\n",
    "print(arrange_array)\n",
    "\n"
   ]
  }
 ],
 "metadata": {
  "kernelspec": {
   "display_name": "Python 3",
   "language": "python",
   "name": "python3"
  },
  "language_info": {
   "codemirror_mode": {
    "name": "ipython",
    "version": 3
   },
   "file_extension": ".py",
   "mimetype": "text/x-python",
   "name": "python",
   "nbconvert_exporter": "python",
   "pygments_lexer": "ipython3",
   "version": "3.10.0"
  }
 },
 "nbformat": 4,
 "nbformat_minor": 2
}
