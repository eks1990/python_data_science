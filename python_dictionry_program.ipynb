{
 "cells": [
  {
   "cell_type": "code",
   "execution_count": 3,
   "metadata": {},
   "outputs": [
    {
     "name": "stdout",
     "output_type": "stream",
     "text": [
      "{'name': 'ritu', 'class': '12', 'sub': 'hindi'}\n",
      "<class 'dict'>\n",
      "3\n"
     ]
    }
   ],
   "source": [
    "std_1 ={\"name\":\"ritu\",\"class\":\"12\",\"sub\":\"hindi\"}\n",
    "print(std_1)\n",
    "print(type(std_1))\n",
    "print(len(std_1))"
   ]
  },
  {
   "cell_type": "code",
   "execution_count": 4,
   "metadata": {},
   "outputs": [
    {
     "name": "stdout",
     "output_type": "stream",
     "text": [
      "ritu\n"
     ]
    }
   ],
   "source": [
    "print(std_1['name'])"
   ]
  },
  {
   "cell_type": "code",
   "execution_count": 6,
   "metadata": {},
   "outputs": [
    {
     "name": "stdout",
     "output_type": "stream",
     "text": [
      "dict_keys(['name', 'class', 'sub'])\n",
      "dict_values(['ritu', '12', 'hindi'])\n"
     ]
    }
   ],
   "source": [
    "print(std_1.keys())\n",
    "print(std_1.values())"
   ]
  },
  {
   "cell_type": "code",
   "execution_count": 7,
   "metadata": {},
   "outputs": [
    {
     "name": "stdout",
     "output_type": "stream",
     "text": [
      "12\n"
     ]
    }
   ],
   "source": [
    "print(std_1.pop(\"class\"))"
   ]
  },
  {
   "cell_type": "code",
   "execution_count": 8,
   "metadata": {},
   "outputs": [
    {
     "name": "stdout",
     "output_type": "stream",
     "text": [
      "{'name': 'ritu', 'sub': 'hindi'}\n"
     ]
    }
   ],
   "source": [
    "print(std_1)"
   ]
  },
  {
   "cell_type": "code",
   "execution_count": 9,
   "metadata": {},
   "outputs": [
    {
     "name": "stdout",
     "output_type": "stream",
     "text": [
      "('sub', 'hindi')\n"
     ]
    }
   ],
   "source": [
    "print(std_1.popitem())"
   ]
  },
  {
   "cell_type": "code",
   "execution_count": 10,
   "metadata": {},
   "outputs": [
    {
     "name": "stdout",
     "output_type": "stream",
     "text": [
      "{'name': 'ritu'}\n"
     ]
    }
   ],
   "source": [
    "print(std_1)"
   ]
  },
  {
   "cell_type": "code",
   "execution_count": 13,
   "metadata": {},
   "outputs": [
    {
     "name": "stdout",
     "output_type": "stream",
     "text": [
      "{'name': 'ritu', 'sub': 'hindi', 'rollno': '123'}\n"
     ]
    }
   ],
   "source": [
    "std_1.update({\"sub\":\"hindi\", \"rollno\":\"123\"})\n",
    "print(std_1)"
   ]
  },
  {
   "cell_type": "code",
   "execution_count": 14,
   "metadata": {},
   "outputs": [
    {
     "name": "stdout",
     "output_type": "stream",
     "text": [
      "123\n"
     ]
    }
   ],
   "source": [
    "print(std_1.get(\"rollno\"))"
   ]
  },
  {
   "cell_type": "code",
   "execution_count": 17,
   "metadata": {},
   "outputs": [
    {
     "name": "stdout",
     "output_type": "stream",
     "text": [
      "{'std1': {'name': 'ritu', 'age': '12'}, 'std2': {'name': 'rahul', 'age': '15'}, 'std3': {'name': 'priya', 'age': '11'}}\n"
     ]
    }
   ],
   "source": [
    "std_info = {\n",
    "    \"std1\":{\n",
    "        \"name\":\"ritu\",\n",
    "        \"age\":\"12\"\n",
    "\n",
    "    },\n",
    "    \"std2\":{\n",
    "        \"name\":\"rahul\",\n",
    "        \"age\":\"15\"\n",
    "\n",
    "    },\n",
    "    \"std3\":{\n",
    "        \"name\":\"priya\",\n",
    "        \"age\":\"11\"\n",
    "    }\n",
    "}\n",
    "print(std_info)"
   ]
  },
  {
   "cell_type": "code",
   "execution_count": 21,
   "metadata": {},
   "outputs": [
    {
     "name": "stdout",
     "output_type": "stream",
     "text": [
      "{'name': 'rahul', 'age': '15'}\n"
     ]
    }
   ],
   "source": [
    "print(std_info.get(\"std2\"))\n"
   ]
  },
  {
   "cell_type": "code",
   "execution_count": 31,
   "metadata": {},
   "outputs": [
    {
     "name": "stdout",
     "output_type": "stream",
     "text": [
      "rahul\n"
     ]
    }
   ],
   "source": [
    "print(std_info.get(\"std2\").get(\"name\"))"
   ]
  }
 ],
 "metadata": {
  "kernelspec": {
   "display_name": "Python 3",
   "language": "python",
   "name": "python3"
  },
  "language_info": {
   "codemirror_mode": {
    "name": "ipython",
    "version": 3
   },
   "file_extension": ".py",
   "mimetype": "text/x-python",
   "name": "python",
   "nbconvert_exporter": "python",
   "pygments_lexer": "ipython3",
   "version": "3.10.0"
  }
 },
 "nbformat": 4,
 "nbformat_minor": 2
}
