{
 "cells": [
  {
   "cell_type": "markdown",
   "metadata": {},
   "source": [
    "#### Python Tutorial\n",
    "\n",
    "this is my first program of python"
   ]
  },
  {
   "cell_type": "code",
   "execution_count": 2,
   "metadata": {},
   "outputs": [
    {
     "name": "stdout",
     "output_type": "stream",
     "text": [
      "this is my first program of python\n"
     ]
    }
   ],
   "source": [
    "print(\"this is my first program of python\")"
   ]
  },
  {
   "cell_type": "code",
   "execution_count": 1,
   "metadata": {},
   "outputs": [
    {
     "name": "stdout",
     "output_type": "stream",
     "text": [
      "5\n",
      "2.5\n",
      " jhon\n"
     ]
    }
   ],
   "source": [
    " # below code are ude to define variable in python\n",
    " x=5 \n",
    " y=2.5\n",
    " z=\" jhon\"\n",
    " print (x)\n",
    " print (y)\n",
    " print (z)"
   ]
  },
  {
   "cell_type": "code",
   "execution_count": 4,
   "metadata": {},
   "outputs": [
    {
     "name": "stdout",
     "output_type": "stream",
     "text": [
      "5\n",
      "2.5\n",
      " jhon\n",
      "<class 'int'>\n",
      "<class 'float'>\n",
      "<class 'str'>\n"
     ]
    }
   ],
   "source": [
    " # below code for type () to show type of variable\n",
    " x=5 \n",
    " y=2.5\n",
    " z=\" jhon\"\n",
    " print (x)\n",
    " print (y)\n",
    " print (z)\n",
    " print (type(x))\n",
    " print (type(y))\n",
    " print (type(z))"
   ]
  },
  {
   "cell_type": "markdown",
   "metadata": {},
   "source": [
    "## Built-in Data Types\n",
    "In programming, data type is an important concept.\n",
    "\n",
    "Variables can store data of different types, and different types can do different things.\n",
    "\n",
    "Python has the following data types built-in by default, in these categories:\n",
    "<ul>\n",
    "<li>Text Type:\tstr</li>\n",
    "<li>Numeric Types:\tint, float, complex</li>\n",
    "<li>Sequence Types:\tlist, tuple, range</li>\n",
    "<li>Mapping Type:\tdict</li>\n",
    "<li>Set Types:\tset, frozenset</li>\n",
    "<li>Boolean Type:\tbool</li>\n",
    "<li>Binary Types:\tbytes, bytearray, memoryview</li>\n",
    "<li>None Type:\tNoneType</li>\n",
    "</ul>"
   ]
  },
  {
   "cell_type": "code",
   "execution_count": 6,
   "metadata": {},
   "outputs": [
    {
     "name": "stdout",
     "output_type": "stream",
     "text": [
      "addition is 9\n"
     ]
    }
   ],
   "source": [
    "# below code example of addition program in python\n",
    "x=5\n",
    "y=4\n",
    "z= x+y\n",
    "print( \"addition is\" , z)"
   ]
  },
  {
   "cell_type": "markdown",
   "metadata": {},
   "source": [
    "## example of if else in python."
   ]
  },
  {
   "cell_type": "code",
   "execution_count": 11,
   "metadata": {},
   "outputs": [
    {
     "name": "stdout",
     "output_type": "stream",
     "text": [
      "x is <0\n"
     ]
    }
   ],
   "source": [
    "x=0\n",
    "\n",
    "if x>0:\n",
    "    print(\"x is > 0\")\n",
    "else :\n",
    "    print( \"x is <0\")    "
   ]
  }
 ],
 "metadata": {
  "kernelspec": {
   "display_name": "Python 3",
   "language": "python",
   "name": "python3"
  },
  "language_info": {
   "codemirror_mode": {
    "name": "ipython",
    "version": 3
   },
   "file_extension": ".py",
   "mimetype": "text/x-python",
   "name": "python",
   "nbconvert_exporter": "python",
   "pygments_lexer": "ipython3",
   "version": "3.11.5"
  },
  "orig_nbformat": 4
 },
 "nbformat": 4,
 "nbformat_minor": 2
}
