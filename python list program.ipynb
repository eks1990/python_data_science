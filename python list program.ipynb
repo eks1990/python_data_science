{
 "cells": [
  {
   "cell_type": "code",
   "execution_count": 4,
   "metadata": {},
   "outputs": [
    {
     "name": "stdout",
     "output_type": "stream",
     "text": [
      "['pen', 'pencil', 'eraser']\n",
      "<class 'list'>\n",
      "3\n"
     ]
    }
   ],
   "source": [
    "stationarylist =[\"pen\",\"pencil\",\"eraser\"]\n",
    "print(stationarylist)\n",
    "print(type(stationarylist))\n",
    "print(len(stationarylist))"
   ]
  },
  {
   "cell_type": "code",
   "execution_count": 5,
   "metadata": {},
   "outputs": [
    {
     "name": "stdout",
     "output_type": "stream",
     "text": [
      "['pen', 'pencil', 'eraser', 'copy']\n"
     ]
    }
   ],
   "source": [
    "stationarylist.append( \"copy\")\n",
    "print(stationarylist)"
   ]
  },
  {
   "cell_type": "code",
   "execution_count": 6,
   "metadata": {},
   "outputs": [
    {
     "name": "stdout",
     "output_type": "stream",
     "text": [
      "['pen', 'scale', 'pencil', 'eraser', 'copy']\n"
     ]
    }
   ],
   "source": [
    "stationarylist.insert(1,\"scale\")\n",
    "print(stationarylist)"
   ]
  },
  {
   "cell_type": "code",
   "execution_count": 7,
   "metadata": {},
   "outputs": [
    {
     "name": "stdout",
     "output_type": "stream",
     "text": [
      "['hindi', 'english', 'science']\n"
     ]
    }
   ],
   "source": [
    "booklist= ['hindi', 'english', 'science']\n",
    "print(booklist)"
   ]
  },
  {
   "cell_type": "code",
   "execution_count": 8,
   "metadata": {},
   "outputs": [
    {
     "name": "stdout",
     "output_type": "stream",
     "text": [
      "['pen', 'scale', 'pencil', 'eraser', 'copy', 'hindi', 'english', 'science']\n",
      "['hindi', 'english', 'science']\n"
     ]
    }
   ],
   "source": [
    "stationarylist.extend(booklist)\n",
    "print(stationarylist)\n",
    "print(booklist)"
   ]
  },
  {
   "cell_type": "code",
   "execution_count": 10,
   "metadata": {},
   "outputs": [
    {
     "name": "stdout",
     "output_type": "stream",
     "text": [
      "['hindi', 'science', 'english']\n"
     ]
    }
   ],
   "source": [
    "booklist.insert(2,\"english\")\n",
    "print(booklist)\n"
   ]
  },
  {
   "cell_type": "code",
   "execution_count": 11,
   "metadata": {},
   "outputs": [
    {
     "name": "stdout",
     "output_type": "stream",
     "text": [
      "['hindi', 'science']\n"
     ]
    }
   ],
   "source": [
    "booklist.remove(\"english\")\n",
    "print(booklist)"
   ]
  },
  {
   "cell_type": "code",
   "execution_count": 12,
   "metadata": {},
   "outputs": [
    {
     "name": "stdout",
     "output_type": "stream",
     "text": [
      "['pen', 'scale', 'pencil', 'eraser', 'copy', 'hindi', 'english', 'science']\n"
     ]
    }
   ],
   "source": [
    "print(stationarylist)"
   ]
  },
  {
   "cell_type": "code",
   "execution_count": 16,
   "metadata": {},
   "outputs": [
    {
     "data": {
      "text/plain": [
       "'pencil'"
      ]
     },
     "execution_count": 16,
     "metadata": {},
     "output_type": "execute_result"
    }
   ],
   "source": [
    "stationarylist.pop(2)"
   ]
  },
  {
   "cell_type": "code",
   "execution_count": 17,
   "metadata": {},
   "outputs": [
    {
     "name": "stdout",
     "output_type": "stream",
     "text": [
      "science\n"
     ]
    }
   ],
   "source": [
    "print(booklist[1])"
   ]
  },
  {
   "cell_type": "code",
   "execution_count": 19,
   "metadata": {},
   "outputs": [
    {
     "name": "stdout",
     "output_type": "stream",
     "text": [
      "['hindi']\n"
     ]
    }
   ],
   "source": [
    "del booklist[1]\n",
    "print(booklist)\n"
   ]
  },
  {
   "cell_type": "code",
   "execution_count": 20,
   "metadata": {},
   "outputs": [
    {
     "ename": "NameError",
     "evalue": "name 'booklist' is not defined",
     "output_type": "error",
     "traceback": [
      "\u001b[1;31m---------------------------------------------------------------------------\u001b[0m",
      "\u001b[1;31mNameError\u001b[0m                                 Traceback (most recent call last)",
      "\u001b[1;32mc:\\Users\\ESG\\Desktop\\ekta-programs\\python_data_science\\python list program.ipynb Cell 12\u001b[0m line \u001b[0;36m2\n\u001b[0;32m      <a href='vscode-notebook-cell:/c%3A/Users/ESG/Desktop/ekta-programs/python_data_science/python%20list%20program.ipynb#X14sZmlsZQ%3D%3D?line=0'>1</a>\u001b[0m \u001b[39mdel\u001b[39;00m booklist\n\u001b[1;32m----> <a href='vscode-notebook-cell:/c%3A/Users/ESG/Desktop/ekta-programs/python_data_science/python%20list%20program.ipynb#X14sZmlsZQ%3D%3D?line=1'>2</a>\u001b[0m \u001b[39mprint\u001b[39m(booklist)\n",
      "\u001b[1;31mNameError\u001b[0m: name 'booklist' is not defined"
     ]
    }
   ],
   "source": [
    "del booklist\n",
    "print(booklist)"
   ]
  },
  {
   "cell_type": "code",
   "execution_count": 22,
   "metadata": {},
   "outputs": [
    {
     "name": "stdout",
     "output_type": "stream",
     "text": [
      "['pen', 'scale', 'eraser', 'copy', 'hindi', 'english']\n",
      "[]\n"
     ]
    }
   ],
   "source": [
    "print(stationarylist)\n",
    "stationarylist.clear()\n",
    "print(stationarylist)"
   ]
  },
  {
   "cell_type": "code",
   "execution_count": 23,
   "metadata": {},
   "outputs": [
    {
     "name": "stdout",
     "output_type": "stream",
     "text": [
      "[]\n"
     ]
    }
   ],
   "source": [
    "print(stationarylist)"
   ]
  }
 ],
 "metadata": {
  "kernelspec": {
   "display_name": "Python 3",
   "language": "python",
   "name": "python3"
  },
  "language_info": {
   "codemirror_mode": {
    "name": "ipython",
    "version": 3
   },
   "file_extension": ".py",
   "mimetype": "text/x-python",
   "name": "python",
   "nbconvert_exporter": "python",
   "pygments_lexer": "ipython3",
   "version": "3.10.0"
  },
  "orig_nbformat": 4
 },
 "nbformat": 4,
 "nbformat_minor": 2
}
