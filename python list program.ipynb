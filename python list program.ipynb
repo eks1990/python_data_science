{
 "cells": [
  {
   "cell_type": "code",
   "execution_count": 5,
   "metadata": {},
   "outputs": [
    {
     "name": "stdout",
     "output_type": "stream",
     "text": [
      "['pen', 'pencil', 'eraser']\n",
      "<class 'list'>\n",
      "3\n"
     ]
    }
   ],
   "source": [
    "stationarylist =[\"pen\",\"pencil\",\"eraser\"]\n",
    "print(stationarylist)\n",
    "print(type(stationarylist))\n",
    "print(len(stationarylist))"
   ]
  },
  {
   "cell_type": "code",
   "execution_count": 10,
   "metadata": {},
   "outputs": [
    {
     "name": "stdout",
     "output_type": "stream",
     "text": [
      "['pen', 'pencil', 'eraser', 'copy', 'copy', 'copy', 'copy']\n"
     ]
    }
   ],
   "source": [
    "stationarylist.append( \"copy\")\n",
    "print(stationarylist)"
   ]
  },
  {
   "cell_type": "code",
   "execution_count": 12,
   "metadata": {},
   "outputs": [
    {
     "name": "stdout",
     "output_type": "stream",
     "text": [
      "['pen', 'scale', 'scale', 'pencil', 'eraser', 'copy', 'copy', 'copy', 'copy']\n"
     ]
    }
   ],
   "source": [
    "stationarylist.insert(1,\"scale\")\n",
    "print(stationarylist)"
   ]
  }
 ],
 "metadata": {
  "kernelspec": {
   "display_name": "Python 3",
   "language": "python",
   "name": "python3"
  },
  "language_info": {
   "codemirror_mode": {
    "name": "ipython",
    "version": 3
   },
   "file_extension": ".py",
   "mimetype": "text/x-python",
   "name": "python",
   "nbconvert_exporter": "python",
   "pygments_lexer": "ipython3",
   "version": "3.10.0"
  },
  "orig_nbformat": 4
 },
 "nbformat": 4,
 "nbformat_minor": 2
}
